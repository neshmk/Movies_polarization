{
 "cells": [
  {
   "cell_type": "code",
   "execution_count": 3,
   "id": "5b3cf46e",
   "metadata": {},
   "outputs": [
    {
     "name": "stdout",
     "output_type": "stream",
     "text": [
      "Requirement already satisfied: openai in /opt/anaconda3/envs/deeplearning/lib/python3.12/site-packages (1.79.0)\n",
      "Requirement already satisfied: anyio<5,>=3.5.0 in /opt/anaconda3/envs/deeplearning/lib/python3.12/site-packages (from openai) (4.9.0)\n",
      "Requirement already satisfied: distro<2,>=1.7.0 in /opt/anaconda3/envs/deeplearning/lib/python3.12/site-packages (from openai) (1.9.0)\n",
      "Requirement already satisfied: httpx<1,>=0.23.0 in /opt/anaconda3/envs/deeplearning/lib/python3.12/site-packages (from openai) (0.28.1)\n",
      "Requirement already satisfied: jiter<1,>=0.4.0 in /opt/anaconda3/envs/deeplearning/lib/python3.12/site-packages (from openai) (0.10.0)\n",
      "Requirement already satisfied: pydantic<3,>=1.9.0 in /opt/anaconda3/envs/deeplearning/lib/python3.12/site-packages (from openai) (2.11.4)\n",
      "Requirement already satisfied: sniffio in /opt/anaconda3/envs/deeplearning/lib/python3.12/site-packages (from openai) (1.3.1)\n",
      "Requirement already satisfied: tqdm>4 in /opt/anaconda3/envs/deeplearning/lib/python3.12/site-packages (from openai) (4.67.1)\n",
      "Requirement already satisfied: typing-extensions<5,>=4.11 in /opt/anaconda3/envs/deeplearning/lib/python3.12/site-packages (from openai) (4.12.2)\n",
      "Requirement already satisfied: idna>=2.8 in /opt/anaconda3/envs/deeplearning/lib/python3.12/site-packages (from anyio<5,>=3.5.0->openai) (3.10)\n",
      "Requirement already satisfied: certifi in /opt/anaconda3/envs/deeplearning/lib/python3.12/site-packages (from httpx<1,>=0.23.0->openai) (2024.12.14)\n",
      "Requirement already satisfied: httpcore==1.* in /opt/anaconda3/envs/deeplearning/lib/python3.12/site-packages (from httpx<1,>=0.23.0->openai) (1.0.9)\n",
      "Requirement already satisfied: h11>=0.16 in /opt/anaconda3/envs/deeplearning/lib/python3.12/site-packages (from httpcore==1.*->httpx<1,>=0.23.0->openai) (0.16.0)\n",
      "Requirement already satisfied: annotated-types>=0.6.0 in /opt/anaconda3/envs/deeplearning/lib/python3.12/site-packages (from pydantic<3,>=1.9.0->openai) (0.7.0)\n",
      "Requirement already satisfied: pydantic-core==2.33.2 in /opt/anaconda3/envs/deeplearning/lib/python3.12/site-packages (from pydantic<3,>=1.9.0->openai) (2.33.2)\n",
      "Requirement already satisfied: typing-inspection>=0.4.0 in /opt/anaconda3/envs/deeplearning/lib/python3.12/site-packages (from pydantic<3,>=1.9.0->openai) (0.4.0)\n"
     ]
    }
   ],
   "source": [
    "!pip install openai\n",
    "import os\n",
    "from openai import OpenAI\n",
    "\n",
    "os.environ[\"PERPLEXITY_API_KEY\"] = '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' # perplexity API key \n",
    "\n",
    "client = OpenAI(\n",
    "    api_key=os.environ[\"PERPLEXITY_API_KEY\"],\n",
    "    base_url=\"https://api.perplexity.ai\"\n",
    ")\n",
    "\n",
    "def perplexity(prompt, system_prompt):\n",
    "    messages = [\n",
    "        {\"role\": \"system\", \"content\": system_prompt},\n",
    "        {\"role\": \"user\", \"content\": prompt}\n",
    "    ]\n",
    "\n",
    "    try:\n",
    "        response = client.chat.completions.create(\n",
    "            model=\"sonar\",  \n",
    "            messages=messages\n",
    "        )\n",
    "        return response.choices[0].message.content.strip(), []  \n",
    "    except Exception as e:\n",
    "        print(\"Error:\", e)\n",
    "        return \"\", []\n"
   ]
  },
  {
   "cell_type": "code",
   "execution_count": 5,
   "id": "1028523a",
   "metadata": {},
   "outputs": [
    {
     "name": "stdout",
     "output_type": "stream",
     "text": [
      "Saved clean URL list to 'letterboxd_urls.txt'\n"
     ]
    }
   ],
   "source": [
    "### FOR THE URLs ###\n",
    "\n",
    "import pandas as pd\n",
    "\n",
    "df = pd.read_csv(\"10k_movies.csv\")\n",
    "first_100 = df.head(100)\n",
    "\n",
    "system_prompt = (\n",
    "    \"You are going to extract URLs from letterboxd.com based on the CSV file provided. \"\n",
    "    \"Each entry contains two columns: 'title' and 'release_date'. Use these to identify the correct movie. \"\n",
    "    \"Only return a valid Letterboxd URL that leads directly to the movie’s page. \"\n",
    "    \"Do not return any other URLs (such as person profiles, lists, or search results). \"\n",
    "    \"Be strict about the release year. Do not return movies from a different year. \"\n",
    "    \"If you're not sure, return nothing.\"\n",
    ")\n",
    "\n",
    "urls = []\n",
    "\n",
    "for index, row in first_100.iterrows():\n",
    "    title = row['title']\n",
    "    release_date = row['release_date']\n",
    "\n",
    "    prompt = f\"Give me the Letterboxd URL for the movie: {title} ({release_date})\"\n",
    "    result, _ = perplexity(prompt, system_prompt)\n",
    "\n",
    "    # Filter out bad results\n",
    "    if result and \"letterboxd.com/film/\" in result:\n",
    "        # Grab the first matching line that contains a URL\n",
    "        for line in result.splitlines():\n",
    "            if \"letterboxd.com/film/\" in line:\n",
    "                url = line.strip().split()[0]  # Get the URL only\n",
    "                if url.startswith(\"http\"):\n",
    "                    urls.append(url)\n",
    "                    break\n",
    "\n",
    "# Write all URLs to a text file\n",
    "with open(\"letterboxd_urls.txt\", \"w\") as f:\n",
    "    for url in urls:\n",
    "        f.write(url + \"\\n\")\n",
    "\n",
    "print(\"Saved clean URL list to 'letterboxd_urls.txt'\")"
   ]
  }
 ],
 "metadata": {
  "kernelspec": {
   "display_name": "deeplearning",
   "language": "python",
   "name": "python3"
  },
  "language_info": {
   "codemirror_mode": {
    "name": "ipython",
    "version": 3
   },
   "file_extension": ".py",
   "mimetype": "text/x-python",
   "name": "python",
   "nbconvert_exporter": "python",
   "pygments_lexer": "ipython3",
   "version": "3.12.7"
  }
 },
 "nbformat": 4,
 "nbformat_minor": 5
}
