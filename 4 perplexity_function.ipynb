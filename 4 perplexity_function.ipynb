{
 "cells": [
  {
   "cell_type": "code",
   "execution_count": null,
   "id": "14bc2290",
   "metadata": {},
   "outputs": [],
   "source": [
    "import os\n",
    "from openai import OpenAI\n",
    "import pandas as pd\n",
    "\n",
    "os.environ[\"PERPLEXITY_API_KEY\"] = 'key' # should be removed when publishing the code\n",
    "\n",
    "client = OpenAI(\n",
    "    api_key=os.environ[\"PERPLEXITY_API_KEY\"],\n",
    "    base_url=\"https://api.perplexity.ai\"\n",
    ")\n",
    "\n",
    "def perplexity(prompt, system_prompt):\n",
    "    messages = [\n",
    "        {\"role\": \"system\", \"content\": system_prompt},\n",
    "        {\"role\": \"user\", \"content\": prompt}\n",
    "    ]\n",
    "\n",
    "    try:\n",
    "        response = client.chat.completions.create(\n",
    "            model=\"sonar\",  \n",
    "            messages=messages\n",
    "        )\n",
    "        return response.choices[0].message.content.strip(), []  \n",
    "    except Exception as e:\n",
    "        print(\"Error:\", e)\n",
    "        return \"\", []\n"
   ]
  },
  {
   "cell_type": "code",
   "execution_count": 9,
   "id": "b9a3546d",
   "metadata": {},
   "outputs": [
    {
     "name": "stdout",
     "output_type": "stream",
     "text": [
      "{'title': 'Time for\\xa0Revenge', 'director': 'Adolfo Aristarain', 'release_year': 1981, 'tags': '{  \"female_protagonist\": \"No\",  \"lgbtq_protagonist\": \"Unknown\",  \"white_protagonist\": \"Yes\",  \"political_topic\": \"Argentina\\'s civil-military dictatorship\",  \"experimental\": \"No\"}'}\n",
      "{'title': 'Japanese\\xa0Borscht', 'director': 'Eric Spade Rivas', 'release_year': 2019, 'tags': '{  \"female_protagonist\": \"No\",  \"lgbtq_protagonist\": \"Unknown\",  \"white_protagonist\": \"Yes\",  \"political_topic\": \"No\",  \"experimental\": \"No\"}'}\n"
     ]
    }
   ],
   "source": [
    "### FOR THE TAGGING ###\n",
    "\n",
    "#df = pd.read_csv(\"random_movies_1000.csv\") #hannes: not sure where this file is, so using the one produced by the rating_scraper.ipynb in step 3.\n",
    "df = pd.read_csv(\"letterboxd_urls_and_ratings.csv\")\n",
    "first_10 = df.head(2)\n",
    "\n",
    "system_prompt = \"\"\"You are a movie researcher finding information about movies. \n",
    "Given a movie's title, director, and release year, return the following JSON:\n",
    "{\n",
    "    \"female_protagonist\": \"Yes\" or \"No\" (depending on whether the movie's main character is female)\n",
    "    \"lgbtq_protagonist\": \"Yes\" or \"No\" (depending on whether the movie's main character is a member of the LGBTQ+ community)\n",
    "    \"white_protagonist\": \"Yes\" or \"No\" (depending on whether the movie's main character is white)\n",
    "    \"political_topic\": \"Name of topic\" or \"No\" (depending on whether the movie focuses on a controversial political topic)\n",
    "    \"experimental\": \"Yes\" or \"No\" (depending on whether the movie has an experimental style/plot)\n",
    "}\n",
    "\n",
    "If the information is not available or unclear, return \"Unknown\" for the given field. Only output the json without any additional text or explanation\n",
    "\"\"\"\n",
    "\n",
    "tags = []\n",
    "\n",
    "for index, row in first_10.iterrows():\n",
    "    title = row['title']\n",
    "    release_year = row['release_year']\n",
    "    director = row['director']\n",
    "\n",
    "    prompt = f\"\"\"\n",
    "\n",
    "Movie Title: {title}\n",
    "Director: {director}\n",
    "Release Year: {release_year}\n",
    "\n",
    "\"\"\"\n",
    "\n",
    "    result, _ = perplexity(prompt, system_prompt)\n",
    "\n",
    "    #remove ``` json and \\n from result\n",
    "    result = result.replace(\"```\", \"\").replace(\"json\", \"\").replace(\"```\", \"\").replace(\"\\n\", \"\").strip()\n",
    "\n",
    "    #extract the JSON from the result based on first and last curly braces\n",
    "    try:\n",
    "        start_index = result.find(\"{\")\n",
    "        end_index = result.rfind(\"}\") + 1\n",
    "        result = result[start_index:end_index]  \n",
    "    except Exception as e:\n",
    "        print(f\"Error extracting JSON for {title}: {e}\")\n",
    "\n",
    "    #make df with title, director, release_date, and tags\n",
    "    result = {\n",
    "        \"title\": title,\n",
    "        \"director\": director,\n",
    "        \"release_year\": release_year,\n",
    "        \"tags\": result\n",
    "    }\n",
    "    print(result)\n",
    "\n",
    "    tags.append(result)\n",
    "    tags_df = pd.DataFrame(tags)\n",
    "    tags_df.to_csv(\"letterboxd_urls_ratings_tags.csv\", index=False)\n"
   ]
  }
 ],
 "metadata": {
  "kernelspec": {
   "display_name": "Python 3",
   "language": "python",
   "name": "python3"
  },
  "language_info": {
   "codemirror_mode": {
    "name": "ipython",
    "version": 3
   },
   "file_extension": ".py",
   "mimetype": "text/x-python",
   "name": "python",
   "nbconvert_exporter": "python",
   "pygments_lexer": "ipython3",
   "version": "3.13.5"
  }
 },
 "nbformat": 4,
 "nbformat_minor": 5
}
